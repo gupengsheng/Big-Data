{
 "cells": [
  {
   "cell_type": "code",
   "execution_count": 2,
   "id": "20237097",
   "metadata": {},
   "outputs": [
    {
     "name": "stdout",
     "output_type": "stream",
     "text": [
      "请输入要查询的姓名：胡胜\n"
     ]
    },
    {
     "data": {
      "text/html": [
       "<table border=\"1\" class=\"dataframe\">\n",
       "    <thead>\n",
       "        <tr>\n",
       "            <th>日期</th> <th>时间</th> <th>考场</th> <th>科目</th>\n",
       "        </tr>\n",
       "    </thead>\n",
       "    <tbody>\n",
       "        <tr>\n",
       "            <td>[]            </td> <td>[]             </td> <td>[]       </td> <td>[]      </td>\n",
       "        </tr>\n",
       "        <tr>\n",
       "            <td>[]            </td> <td>[]             </td> <td>[]       </td> <td>[]      </td>\n",
       "        </tr>\n",
       "        <tr>\n",
       "            <td>['2022/11/15']</td> <td>['14:30-16:30']</td> <td>['教一405']</td> <td>['hive']</td>\n",
       "        </tr>\n",
       "        <tr>\n",
       "            <td>[]            </td> <td>[]             </td> <td>[]       </td> <td>[]      </td>\n",
       "        </tr>\n",
       "    </tbody>\n",
       "</table>"
      ],
      "text/plain": [
       "日期             | 时间              | 考场        | 科目\n",
       "[]             | []              | []        | []\n",
       "[]             | []              | []        | []\n",
       "['2022/11/15'] | ['14:30-16:30'] | ['教一405'] | ['hive']\n",
       "[]             | []              | []        | []"
      ]
     },
     "execution_count": 2,
     "metadata": {},
     "output_type": "execute_result"
    }
   ],
   "source": [
    "from datascience import *\n",
    "\n",
    "data1 = Table.read_table('../table2/hadoop.csv')\n",
    "data2 = Table.read_table('../table2/hive.csv')\n",
    "data3 = Table.read_table('../table2/spark.csv')\n",
    "data4 = Table.read_table('../table2/高数监考表.csv')\n",
    "\n",
    "def Inquire(path,name):\n",
    "    a = path.where(\"姓名\",name)\n",
    "    date = a[2]\n",
    "    time = a[3]\n",
    "    classroom = a[4]\n",
    "    subject =a[5]\n",
    "    return [date,time,classroom,subject]\n",
    "\n",
    "name = input(\"请输入要查询的姓名：\")\n",
    "\n",
    "hadoop = Inquire(data1,name)\n",
    "spark = Inquire(data3,name)\n",
    "hive = Inquire(data2,name)\n",
    "math = Inquire(data4,name)\n",
    "\n",
    "date_array = (hadoop[0],spark[0],hive[0],math[0])\n",
    "time_array = (hadoop[1],spark[1],hive[1],math[1])\n",
    "classroom_array = (hadoop[2],spark[2],hive[2],math[2])\n",
    "subject_array = (hadoop[3],spark[3],hive[3],math[3])\n",
    "\n",
    "table = Table().with_columns(\"日期\",date_array,\"时间\",time_array,\"考场\",classroom_array,\"科目\",subject_array)\n",
    "table"
   ]
  },
  {
   "cell_type": "code",
   "execution_count": 46,
   "id": "9743b0fe",
   "metadata": {},
   "outputs": [
    {
     "data": {
      "text/plain": [
       "(array(['2022/11/14'],\n",
       "       dtype='<U10'),\n",
       " array([],\n",
       "       dtype='<U10'),\n",
       " array(['2022/11/15'],\n",
       "       dtype='<U10'),\n",
       " array([],\n",
       "       dtype='<U32'))"
      ]
     },
     "execution_count": 46,
     "metadata": {},
     "output_type": "execute_result"
    }
   ],
   "source": [
    "date_array"
   ]
  },
  {
   "cell_type": "code",
   "execution_count": 26,
   "id": "de6c5454",
   "metadata": {},
   "outputs": [
    {
     "data": {
      "text/html": [
       "<div>\n",
       "<style scoped>\n",
       "    .dataframe tbody tr th:only-of-type {\n",
       "        vertical-align: middle;\n",
       "    }\n",
       "\n",
       "    .dataframe tbody tr th {\n",
       "        vertical-align: top;\n",
       "    }\n",
       "\n",
       "    .dataframe thead th {\n",
       "        text-align: right;\n",
       "    }\n",
       "</style>\n",
       "<table border=\"1\" class=\"dataframe\">\n",
       "  <thead>\n",
       "    <tr style=\"text-align: right;\">\n",
       "      <th></th>\n",
       "      <th>0</th>\n",
       "    </tr>\n",
       "  </thead>\n",
       "  <tbody>\n",
       "    <tr>\n",
       "      <th>0</th>\n",
       "      <td>日期</td>\n",
       "    </tr>\n",
       "    <tr>\n",
       "      <th>1</th>\n",
       "      <td>时间</td>\n",
       "    </tr>\n",
       "    <tr>\n",
       "      <th>2</th>\n",
       "      <td>考场</td>\n",
       "    </tr>\n",
       "    <tr>\n",
       "      <th>3</th>\n",
       "      <td>科目</td>\n",
       "    </tr>\n",
       "  </tbody>\n",
       "</table>\n",
       "</div>"
      ],
      "text/plain": [
       "    0\n",
       "0  日期\n",
       "1  时间\n",
       "2  考场\n",
       "3  科目"
      ]
     },
     "execution_count": 26,
     "metadata": {},
     "output_type": "execute_result"
    }
   ],
   "source": [
    "import pandas as pd\n",
    "table1=pd.DataFrame(table)\n",
    "# table1.dropna(axis=0,how=\"all\")\n",
    "table1"
   ]
  },
  {
   "cell_type": "code",
   "execution_count": 3,
   "id": "87c1323c",
   "metadata": {},
   "outputs": [
    {
     "data": {
      "text/html": [
       "<table border=\"1\" class=\"dataframe\">\n",
       "    <thead>\n",
       "        <tr>\n",
       "            <th>学号</th> <th>姓名</th> <th>日期</th> <th>时间</th> <th>教室</th> <th>科目</th>\n",
       "        </tr>\n",
       "    </thead>\n",
       "    <tbody>\n",
       "        <tr>\n",
       "            <td>2020145105</td> <td>胡站瑜 </td> <td>2022/11/14</td> <td>14:30-16:30</td> <td>教一504</td> <td>hadoop</td>\n",
       "        </tr>\n",
       "    </tbody>\n",
       "</table>"
      ],
      "text/plain": [
       "学号         | 姓名   | 日期         | 时间          | 教室    | 科目\n",
       "2020145105 | 胡站瑜  | 2022/11/14 | 14:30-16:30 | 教一504 | hadoop"
      ]
     },
     "execution_count": 3,
     "metadata": {},
     "output_type": "execute_result"
    }
   ],
   "source": [
    "a = data1.where(\"姓名\",\"胡站瑜\")\n",
    "a"
   ]
  },
  {
   "cell_type": "code",
   "execution_count": 36,
   "id": "fc102c4a",
   "metadata": {},
   "outputs": [
    {
     "data": {
      "text/plain": [
       "datascience.tables.Table"
      ]
     },
     "execution_count": 36,
     "metadata": {},
     "output_type": "execute_result"
    }
   ],
   "source": [
    "a = data3.where(\"姓名\",\"胡站瑜\")\n"
   ]
  },
  {
   "cell_type": "code",
   "execution_count": null,
   "id": "10ff400b",
   "metadata": {},
   "outputs": [],
   "source": []
  }
 ],
 "metadata": {
  "kernelspec": {
   "display_name": "Python 3 (ipykernel)",
   "language": "python",
   "name": "python3"
  },
  "language_info": {
   "codemirror_mode": {
    "name": "ipython",
    "version": 3
   },
   "file_extension": ".py",
   "mimetype": "text/x-python",
   "name": "python",
   "nbconvert_exporter": "python",
   "pygments_lexer": "ipython3",
   "version": "3.9.7"
  }
 },
 "nbformat": 4,
 "nbformat_minor": 5
}
